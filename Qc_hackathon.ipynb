{
  "nbformat": 4,
  "nbformat_minor": 0,
  "metadata": {
    "colab": {
      "name": "Untitled3.ipynb",
      "provenance": [],
      "authorship_tag": "ABX9TyM539K7N5BEZqTegFywkX5p",
      "include_colab_link": true
    },
    "kernelspec": {
      "name": "python3",
      "display_name": "Python 3"
    },
    "language_info": {
      "name": "python"
    }
  },
  "cells": [
    {
      "cell_type": "markdown",
      "metadata": {
        "id": "view-in-github",
        "colab_type": "text"
      },
      "source": [
        "<a href=\"https://colab.research.google.com/github/Gitaalekh6763/QCCHackathon-2022/blob/main/Qc_hackathon.ipynb\" target=\"_parent\"><img src=\"https://colab.research.google.com/assets/colab-badge.svg\" alt=\"Open In Colab\"/></a>"
      ]
    },
    {
      "cell_type": "code",
      "execution_count": 22,
      "metadata": {
        "colab": {
          "base_uri": "https://localhost:8080/"
        },
        "id": "NkYnfus47JFk",
        "outputId": "4c72ca79-9b53-477f-bedf-f64f811b68e1"
      },
      "outputs": [
        {
          "output_type": "stream",
          "name": "stdout",
          "text": [
            "Looking in indexes: https://pypi.org/simple, https://us-python.pkg.dev/colab-wheels/public/simple/\n",
            "Requirement already satisfied: qiskit in /usr/local/lib/python3.7/dist-packages (0.36.2)\n",
            "Requirement already satisfied: qiskit-terra==0.20.2 in /usr/local/lib/python3.7/dist-packages (from qiskit) (0.20.2)\n",
            "Requirement already satisfied: qiskit-ibmq-provider==0.19.1 in /usr/local/lib/python3.7/dist-packages (from qiskit) (0.19.1)\n",
            "Requirement already satisfied: qiskit-ignis==0.7.1 in /usr/local/lib/python3.7/dist-packages (from qiskit) (0.7.1)\n",
            "Requirement already satisfied: qiskit-aer==0.10.4 in /usr/local/lib/python3.7/dist-packages (from qiskit) (0.10.4)\n",
            "Requirement already satisfied: numpy>=1.16.3 in /usr/local/lib/python3.7/dist-packages (from qiskit-aer==0.10.4->qiskit) (1.21.6)\n",
            "Requirement already satisfied: scipy>=1.0 in /usr/local/lib/python3.7/dist-packages (from qiskit-aer==0.10.4->qiskit) (1.7.3)\n",
            "Requirement already satisfied: urllib3>=1.21.1 in /usr/local/lib/python3.7/dist-packages (from qiskit-ibmq-provider==0.19.1->qiskit) (1.24.3)\n",
            "Requirement already satisfied: requests-ntlm>=1.1.0 in /usr/local/lib/python3.7/dist-packages (from qiskit-ibmq-provider==0.19.1->qiskit) (1.1.0)\n",
            "Requirement already satisfied: websocket-client>=1.0.1 in /usr/local/lib/python3.7/dist-packages (from qiskit-ibmq-provider==0.19.1->qiskit) (1.3.2)\n",
            "Requirement already satisfied: requests>=2.19 in /usr/local/lib/python3.7/dist-packages (from qiskit-ibmq-provider==0.19.1->qiskit) (2.23.0)\n",
            "Requirement already satisfied: python-dateutil>=2.8.0 in /usr/local/lib/python3.7/dist-packages (from qiskit-ibmq-provider==0.19.1->qiskit) (2.8.2)\n",
            "Requirement already satisfied: websockets>=10.0 in /usr/local/lib/python3.7/dist-packages (from qiskit-ibmq-provider==0.19.1->qiskit) (10.3)\n",
            "Requirement already satisfied: retworkx>=0.8.0 in /usr/local/lib/python3.7/dist-packages (from qiskit-ignis==0.7.1->qiskit) (0.11.0)\n",
            "Requirement already satisfied: setuptools>=40.1.0 in /usr/local/lib/python3.7/dist-packages (from qiskit-ignis==0.7.1->qiskit) (57.4.0)\n",
            "Requirement already satisfied: ply>=3.10 in /usr/local/lib/python3.7/dist-packages (from qiskit-terra==0.20.2->qiskit) (3.11)\n",
            "Requirement already satisfied: sympy>=1.3 in /usr/local/lib/python3.7/dist-packages (from qiskit-terra==0.20.2->qiskit) (1.7.1)\n",
            "Requirement already satisfied: stevedore>=3.0.0 in /usr/local/lib/python3.7/dist-packages (from qiskit-terra==0.20.2->qiskit) (3.5.0)\n",
            "Requirement already satisfied: python-constraint>=1.4 in /usr/local/lib/python3.7/dist-packages (from qiskit-terra==0.20.2->qiskit) (1.4.0)\n",
            "Requirement already satisfied: psutil>=5 in /usr/local/lib/python3.7/dist-packages (from qiskit-terra==0.20.2->qiskit) (5.4.8)\n",
            "Requirement already satisfied: symengine>=0.9 in /usr/local/lib/python3.7/dist-packages (from qiskit-terra==0.20.2->qiskit) (0.9.2)\n",
            "Requirement already satisfied: tweedledum<2.0,>=1.1 in /usr/local/lib/python3.7/dist-packages (from qiskit-terra==0.20.2->qiskit) (1.1.1)\n",
            "Requirement already satisfied: dill>=0.3 in /usr/local/lib/python3.7/dist-packages (from qiskit-terra==0.20.2->qiskit) (0.3.5.1)\n",
            "Requirement already satisfied: six>=1.5 in /usr/local/lib/python3.7/dist-packages (from python-dateutil>=2.8.0->qiskit-ibmq-provider==0.19.1->qiskit) (1.15.0)\n",
            "Requirement already satisfied: chardet<4,>=3.0.2 in /usr/local/lib/python3.7/dist-packages (from requests>=2.19->qiskit-ibmq-provider==0.19.1->qiskit) (3.0.4)\n",
            "Requirement already satisfied: idna<3,>=2.5 in /usr/local/lib/python3.7/dist-packages (from requests>=2.19->qiskit-ibmq-provider==0.19.1->qiskit) (2.10)\n",
            "Requirement already satisfied: certifi>=2017.4.17 in /usr/local/lib/python3.7/dist-packages (from requests>=2.19->qiskit-ibmq-provider==0.19.1->qiskit) (2022.5.18.1)\n",
            "Requirement already satisfied: ntlm-auth>=1.0.2 in /usr/local/lib/python3.7/dist-packages (from requests-ntlm>=1.1.0->qiskit-ibmq-provider==0.19.1->qiskit) (1.5.0)\n",
            "Requirement already satisfied: cryptography>=1.3 in /usr/local/lib/python3.7/dist-packages (from requests-ntlm>=1.1.0->qiskit-ibmq-provider==0.19.1->qiskit) (37.0.2)\n",
            "Requirement already satisfied: cffi>=1.12 in /usr/local/lib/python3.7/dist-packages (from cryptography>=1.3->requests-ntlm>=1.1.0->qiskit-ibmq-provider==0.19.1->qiskit) (1.15.0)\n",
            "Requirement already satisfied: pycparser in /usr/local/lib/python3.7/dist-packages (from cffi>=1.12->cryptography>=1.3->requests-ntlm>=1.1.0->qiskit-ibmq-provider==0.19.1->qiskit) (2.21)\n",
            "Requirement already satisfied: importlib-metadata>=1.7.0 in /usr/local/lib/python3.7/dist-packages (from stevedore>=3.0.0->qiskit-terra==0.20.2->qiskit) (4.11.4)\n",
            "Requirement already satisfied: pbr!=2.1.0,>=2.0.0 in /usr/local/lib/python3.7/dist-packages (from stevedore>=3.0.0->qiskit-terra==0.20.2->qiskit) (5.9.0)\n",
            "Requirement already satisfied: zipp>=0.5 in /usr/local/lib/python3.7/dist-packages (from importlib-metadata>=1.7.0->stevedore>=3.0.0->qiskit-terra==0.20.2->qiskit) (3.8.0)\n",
            "Requirement already satisfied: typing-extensions>=3.6.4 in /usr/local/lib/python3.7/dist-packages (from importlib-metadata>=1.7.0->stevedore>=3.0.0->qiskit-terra==0.20.2->qiskit) (4.2.0)\n",
            "Requirement already satisfied: mpmath>=0.19 in /usr/local/lib/python3.7/dist-packages (from sympy>=1.3->qiskit-terra==0.20.2->qiskit) (1.2.1)\n"
          ]
        }
      ],
      "source": [
        "!pip install qiskit"
      ]
    },
    {
      "cell_type": "code",
      "source": [
        "from qiskit import *\n"
      ],
      "metadata": {
        "id": "N04Ngrmy7NCn"
      },
      "execution_count": 23,
      "outputs": []
    },
    {
      "cell_type": "code",
      "source": [
        "from qiskit.visualization import plot_histogram\n",
        "circuit = QuantumCircuit(8,2)\n",
        "circuit.draw()"
      ],
      "metadata": {
        "colab": {
          "base_uri": "https://localhost:8080/",
          "height": 310
        },
        "id": "mY7nMfJn7feg",
        "outputId": "1a5563ff-5076-454c-ad06-47ab8a4f11fb"
      },
      "execution_count": 24,
      "outputs": [
        {
          "output_type": "execute_result",
          "data": {
            "text/plain": [
              "     \n",
              "q_0: \n",
              "     \n",
              "q_1: \n",
              "     \n",
              "q_2: \n",
              "     \n",
              "q_3: \n",
              "     \n",
              "q_4: \n",
              "     \n",
              "q_5: \n",
              "     \n",
              "q_6: \n",
              "     \n",
              "q_7: \n",
              "     \n",
              "c: 2/\n",
              "     "
            ],
            "text/html": [
              "<pre style=\"word-wrap: normal;white-space: pre;background: #fff0;line-height: 1.1;font-family: &quot;Courier New&quot;,Courier,monospace\">     \n",
              "q_0: \n",
              "     \n",
              "q_1: \n",
              "     \n",
              "q_2: \n",
              "     \n",
              "q_3: \n",
              "     \n",
              "q_4: \n",
              "     \n",
              "q_5: \n",
              "     \n",
              "q_6: \n",
              "     \n",
              "q_7: \n",
              "     \n",
              "c: 2/\n",
              "     </pre>"
            ]
          },
          "metadata": {},
          "execution_count": 24
        }
      ]
    },
    {
      "cell_type": "code",
      "source": [
        "%matplotlib inline"
      ],
      "metadata": {
        "id": "39NomIM87rhf"
      },
      "execution_count": 25,
      "outputs": []
    },
    {
      "cell_type": "code",
      "source": [
        "circuit.h(0)\n",
        "circuit.cx(1,2)\n",
        "circuit.x(2)\n",
        "circuit.cx(2,1)\n",
        "circuit.z(1)\n",
        "circuit.cx(2,1)\n",
        "circuit.barrier()\n",
        "circuit.draw()"
      ],
      "metadata": {
        "colab": {
          "base_uri": "https://localhost:8080/",
          "height": 310
        },
        "id": "_y1apLQ2705M",
        "outputId": "3307997e-5edf-45f6-ab6f-ce05f1a8d652"
      },
      "execution_count": 26,
      "outputs": [
        {
          "output_type": "execute_result",
          "data": {
            "text/plain": [
              "     ┌───┐                     ░ \n",
              "q_0: ┤ H ├─────────────────────░─\n",
              "     └───┘     ┌───┐┌───┐┌───┐ ░ \n",
              "q_1: ──■───────┤ X ├┤ Z ├┤ X ├─░─\n",
              "     ┌─┴─┐┌───┐└─┬─┘└───┘└─┬─┘ ░ \n",
              "q_2: ┤ X ├┤ X ├──■─────────■───░─\n",
              "     └───┘└───┘                ░ \n",
              "q_3: ──────────────────────────░─\n",
              "                               ░ \n",
              "q_4: ──────────────────────────░─\n",
              "                               ░ \n",
              "q_5: ──────────────────────────░─\n",
              "                               ░ \n",
              "q_6: ──────────────────────────░─\n",
              "                               ░ \n",
              "q_7: ──────────────────────────░─\n",
              "                               ░ \n",
              "c: 2/════════════════════════════\n",
              "                                 "
            ],
            "text/html": [
              "<pre style=\"word-wrap: normal;white-space: pre;background: #fff0;line-height: 1.1;font-family: &quot;Courier New&quot;,Courier,monospace\">     ┌───┐                     ░ \n",
              "q_0: ┤ H ├─────────────────────░─\n",
              "     └───┘     ┌───┐┌───┐┌───┐ ░ \n",
              "q_1: ──■───────┤ X ├┤ Z ├┤ X ├─░─\n",
              "     ┌─┴─┐┌───┐└─┬─┘└───┘└─┬─┘ ░ \n",
              "q_2: ┤ X ├┤ X ├──■─────────■───░─\n",
              "     └───┘└───┘                ░ \n",
              "q_3: ──────────────────────────░─\n",
              "                               ░ \n",
              "q_4: ──────────────────────────░─\n",
              "                               ░ \n",
              "q_5: ──────────────────────────░─\n",
              "                               ░ \n",
              "q_6: ──────────────────────────░─\n",
              "                               ░ \n",
              "q_7: ──────────────────────────░─\n",
              "                               ░ \n",
              "c: 2/════════════════════════════\n",
              "                                 </pre>"
            ]
          },
          "metadata": {},
          "execution_count": 26
        }
      ]
    },
    {
      "cell_type": "code",
      "source": [
        "circuit.h(3)\n",
        "circuit.cx(3,5)\n",
        "circuit.h(4)\n",
        "circuit.cx(4,6)\n",
        "circuit.cx(0,3)\n",
        "circuit.h(0)\n",
        "circuit.cx(1,4)\n",
        "circuit.h(1)\n",
        "circuit.draw()"
      ],
      "metadata": {
        "colab": {
          "base_uri": "https://localhost:8080/",
          "height": 310
        },
        "id": "m80i2JRA8Q86",
        "outputId": "189b4d01-af63-467b-db3f-776f50a6dcd1"
      },
      "execution_count": 27,
      "outputs": [
        {
          "output_type": "execute_result",
          "data": {
            "text/plain": [
              "     ┌───┐                     ░                ┌───┐     \n",
              "q_0: ┤ H ├─────────────────────░─────────────■──┤ H ├─────\n",
              "     └───┘     ┌───┐┌───┐┌───┐ ░             │  └───┘┌───┐\n",
              "q_1: ──■───────┤ X ├┤ Z ├┤ X ├─░─────────────┼────■──┤ H ├\n",
              "     ┌─┴─┐┌───┐└─┬─┘└───┘└─┬─┘ ░             │    │  └───┘\n",
              "q_2: ┤ X ├┤ X ├──■─────────■───░─────────────┼────┼───────\n",
              "     └───┘└───┘                ░ ┌───┐     ┌─┴─┐  │       \n",
              "q_3: ──────────────────────────░─┤ H ├──■──┤ X ├──┼───────\n",
              "                               ░ ├───┤  │  └───┘┌─┴─┐     \n",
              "q_4: ──────────────────────────░─┤ H ├──┼────■──┤ X ├─────\n",
              "                               ░ └───┘┌─┴─┐  │  └───┘     \n",
              "q_5: ──────────────────────────░──────┤ X ├──┼────────────\n",
              "                               ░      └───┘┌─┴─┐          \n",
              "q_6: ──────────────────────────░───────────┤ X ├──────────\n",
              "                               ░           └───┘          \n",
              "q_7: ──────────────────────────░──────────────────────────\n",
              "                               ░                          \n",
              "c: 2/═════════════════════════════════════════════════════\n",
              "                                                          "
            ],
            "text/html": [
              "<pre style=\"word-wrap: normal;white-space: pre;background: #fff0;line-height: 1.1;font-family: &quot;Courier New&quot;,Courier,monospace\">     ┌───┐                     ░                ┌───┐     \n",
              "q_0: ┤ H ├─────────────────────░─────────────■──┤ H ├─────\n",
              "     └───┘     ┌───┐┌───┐┌───┐ ░             │  └───┘┌───┐\n",
              "q_1: ──■───────┤ X ├┤ Z ├┤ X ├─░─────────────┼────■──┤ H ├\n",
              "     ┌─┴─┐┌───┐└─┬─┘└───┘└─┬─┘ ░             │    │  └───┘\n",
              "q_2: ┤ X ├┤ X ├──■─────────■───░─────────────┼────┼───────\n",
              "     └───┘└───┘                ░ ┌───┐     ┌─┴─┐  │       \n",
              "q_3: ──────────────────────────░─┤ H ├──■──┤ X ├──┼───────\n",
              "                               ░ ├───┤  │  └───┘┌─┴─┐     \n",
              "q_4: ──────────────────────────░─┤ H ├──┼────■──┤ X ├─────\n",
              "                               ░ └───┘┌─┴─┐  │  └───┘     \n",
              "q_5: ──────────────────────────░──────┤ X ├──┼────────────\n",
              "                               ░      └───┘┌─┴─┐          \n",
              "q_6: ──────────────────────────░───────────┤ X ├──────────\n",
              "                               ░           └───┘          \n",
              "q_7: ──────────────────────────░──────────────────────────\n",
              "                               ░                          \n",
              "c: 2/═════════════════════════════════════════════════════\n",
              "                                                          </pre>"
            ]
          },
          "metadata": {},
          "execution_count": 27
        }
      ]
    },
    {
      "cell_type": "code",
      "source": [
        "circuit.cx(3,5)\n",
        "circuit.cz(0,5)\n",
        "circuit.cx(4,6)\n",
        "circuit.cz(1,6)\n",
        "circuit.barrier()\n",
        "circuit.draw()\n"
      ],
      "metadata": {
        "colab": {
          "base_uri": "https://localhost:8080/",
          "height": 602
        },
        "id": "mviJXU2x8rRE",
        "outputId": "57462c98-58be-4248-bf98-962007e928c6"
      },
      "execution_count": 30,
      "outputs": [
        {
          "output_type": "execute_result",
          "data": {
            "text/plain": [
              "     ┌───┐                     ░                ┌───┐                 ░      »\n",
              "q_0: ┤ H ├─────────────────────░─────────────■──┤ H ├───────────■─────░──────»\n",
              "     └───┘     ┌───┐┌───┐┌───┐ ░             │  └───┘┌───┐      │     ░      »\n",
              "q_1: ──■───────┤ X ├┤ Z ├┤ X ├─░─────────────┼────■──┤ H ├──────┼──■──░──────»\n",
              "     ┌─┴─┐┌───┐└─┬─┘└───┘└─┬─┘ ░             │    │  └───┘      │  │  ░      »\n",
              "q_2: ┤ X ├┤ X ├──■─────────■───░─────────────┼────┼─────────────┼──┼──░──────»\n",
              "     └───┘└───┘                ░ ┌───┐     ┌─┴─┐  │             │  │  ░      »\n",
              "q_3: ──────────────────────────░─┤ H ├──■──┤ X ├──┼────■────────┼──┼──░──────»\n",
              "                               ░ ├───┤  │  └───┘┌─┴─┐  │        │  │  ░      »\n",
              "q_4: ──────────────────────────░─┤ H ├──┼────■──┤ X ├──┼────■───┼──┼──░──────»\n",
              "                               ░ └───┘┌─┴─┐  │  └───┘┌─┴─┐  │   │  │  ░ ┌───┐»\n",
              "q_5: ──────────────────────────░──────┤ X ├──┼───────┤ X ├──┼───■──┼──░─┤ H ├»\n",
              "                               ░      └───┘┌─┴─┐     └───┘┌─┴─┐    │  ░ └───┘»\n",
              "q_6: ──────────────────────────░───────────┤ X ├──────────┤ X ├────■──░──────»\n",
              "                               ░           └───┘          └───┘       ░      »\n",
              "q_7: ──────────────────────────░──────────────────────────────────────░──────»\n",
              "                               ░                                      ░      »\n",
              "c: 2/════════════════════════════════════════════════════════════════════════»\n",
              "                                                                             »\n",
              "«                      ░ \n",
              "«q_0: ──────────────■──░─\n",
              "«                   │  ░ \n",
              "«q_1: ───────────■──┼──░─\n",
              "«                │  │  ░ \n",
              "«q_2: ───────────┼──┼──░─\n",
              "«                │  │  ░ \n",
              "«q_3: ───────■───┼──┼──░─\n",
              "«            │   │  │  ░ \n",
              "«q_4: ──■────┼───┼──┼──░─\n",
              "«       │  ┌─┴─┐ │  │  ░ \n",
              "«q_5: ──┼──┤ X ├─┼──■──░─\n",
              "«     ┌─┴─┐└───┘ │     ░ \n",
              "«q_6: ┤ X ├──────■─────░─\n",
              "«     └───┘            ░ \n",
              "«q_7: ─────────────────░─\n",
              "«                      ░ \n",
              "«c: 2/═══════════════════\n",
              "«                        "
            ],
            "text/html": [
              "<pre style=\"word-wrap: normal;white-space: pre;background: #fff0;line-height: 1.1;font-family: &quot;Courier New&quot;,Courier,monospace\">     ┌───┐                     ░                ┌───┐                 ░      »\n",
              "q_0: ┤ H ├─────────────────────░─────────────■──┤ H ├───────────■─────░──────»\n",
              "     └───┘     ┌───┐┌───┐┌───┐ ░             │  └───┘┌───┐      │     ░      »\n",
              "q_1: ──■───────┤ X ├┤ Z ├┤ X ├─░─────────────┼────■──┤ H ├──────┼──■──░──────»\n",
              "     ┌─┴─┐┌───┐└─┬─┘└───┘└─┬─┘ ░             │    │  └───┘      │  │  ░      »\n",
              "q_2: ┤ X ├┤ X ├──■─────────■───░─────────────┼────┼─────────────┼──┼──░──────»\n",
              "     └───┘└───┘                ░ ┌───┐     ┌─┴─┐  │             │  │  ░      »\n",
              "q_3: ──────────────────────────░─┤ H ├──■──┤ X ├──┼────■────────┼──┼──░──────»\n",
              "                               ░ ├───┤  │  └───┘┌─┴─┐  │        │  │  ░      »\n",
              "q_4: ──────────────────────────░─┤ H ├──┼────■──┤ X ├──┼────■───┼──┼──░──────»\n",
              "                               ░ └───┘┌─┴─┐  │  └───┘┌─┴─┐  │   │  │  ░ ┌───┐»\n",
              "q_5: ──────────────────────────░──────┤ X ├──┼───────┤ X ├──┼───■──┼──░─┤ H ├»\n",
              "                               ░      └───┘┌─┴─┐     └───┘┌─┴─┐    │  ░ └───┘»\n",
              "q_6: ──────────────────────────░───────────┤ X ├──────────┤ X ├────■──░──────»\n",
              "                               ░           └───┘          └───┘       ░      »\n",
              "q_7: ──────────────────────────░──────────────────────────────────────░──────»\n",
              "                               ░                                      ░      »\n",
              "c: 2/════════════════════════════════════════════════════════════════════════»\n",
              "                                                                             »\n",
              "«                      ░ \n",
              "«q_0: ──────────────■──░─\n",
              "«                   │  ░ \n",
              "«q_1: ───────────■──┼──░─\n",
              "«                │  │  ░ \n",
              "«q_2: ───────────┼──┼──░─\n",
              "«                │  │  ░ \n",
              "«q_3: ───────■───┼──┼──░─\n",
              "«            │   │  │  ░ \n",
              "«q_4: ──■────┼───┼──┼──░─\n",
              "«       │  ┌─┴─┐ │  │  ░ \n",
              "«q_5: ──┼──┤ X ├─┼──■──░─\n",
              "«     ┌─┴─┐└───┘ │     ░ \n",
              "«q_6: ┤ X ├──────■─────░─\n",
              "«     └───┘            ░ \n",
              "«q_7: ─────────────────░─\n",
              "«                      ░ \n",
              "«c: 2/═══════════════════\n",
              "«                        </pre>"
            ]
          },
          "metadata": {},
          "execution_count": 30
        }
      ]
    },
    {
      "cell_type": "code",
      "source": [
        "circuit.h(5)"
      ],
      "metadata": {
        "colab": {
          "base_uri": "https://localhost:8080/"
        },
        "id": "bhj6JWeqA9Oo",
        "outputId": "72b9e07e-9e6d-4983-b5d2-51d3317975bc"
      },
      "execution_count": 31,
      "outputs": [
        {
          "output_type": "execute_result",
          "data": {
            "text/plain": [
              "<qiskit.circuit.instructionset.InstructionSet at 0x7f46d6aca1e0>"
            ]
          },
          "metadata": {},
          "execution_count": 31
        }
      ]
    },
    {
      "cell_type": "code",
      "source": [
        "circuit.measure([5,6],[0,1])\n",
        "backend=Aer.get_backend('aer_simulator')\n",
        "result=backend.run(circuit,shots=1000).result()\n",
        "counts=result.get_counts()\n",
        "plot_histogram(counts)"
      ],
      "metadata": {
        "colab": {
          "base_uri": "https://localhost:8080/",
          "height": 331
        },
        "id": "Ck8BqObmBFMP",
        "outputId": "060a8ff8-5d90-44bf-dc97-0f138881c1cf"
      },
      "execution_count": 33,
      "outputs": [
        {
          "output_type": "execute_result",
          "data": {
            "text/plain": [
              "<Figure size 504x360 with 1 Axes>"
            ],
            "image/png": "[encoded data removed]"
          },
          "metadata": {},
          "execution_count": 33
        }
      ]
    },
    {
      "cell_type": "code",
      "source": [
        ""
      ],
      "metadata": {
        "id": "sfVzcC59BmdK"
      },
      "execution_count": null,
      "outputs": []
    }
  ]
}